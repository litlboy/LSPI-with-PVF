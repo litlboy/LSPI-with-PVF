{
 "cells": [
  {
   "cell_type": "markdown",
   "metadata": {},
   "source": [
    "# Plotting the Laplacian eigenfunctions"
   ]
  },
  {
   "cell_type": "code",
   "execution_count": 1,
   "metadata": {},
   "outputs": [],
   "source": [
    "from utils import *\n",
    "from grid import make_grid\n",
    "\n",
    "# 4 rooms grid, goals in center of the rooms\n",
    "height = 100\n",
    "width = 100\n",
    "goals = [[25, 25]]\n",
    "\n",
    "# Define walls\n",
    "walls = []\n",
    "for j in range(10):\n",
    "    for i in range(100):\n",
    "        walls += [[45 + j, i], [i, 45 + j]]\n",
    "doors = []\n",
    "for j in range(10):\n",
    "    for i in range(10):\n",
    "         doors += [[45 + j, 20+i], [20 + i, 45 + j], [45 + j, 70 + i], [70+j, 45 + i]]"
   ]
  },
  {
   "cell_type": "code",
   "execution_count": 2,
   "metadata": {},
   "outputs": [
    {
     "name": "stdout",
     "output_type": "stream",
     "text": [
      "\u001b[33mWARN: gym.spaces.Box autodetected dtype as <class 'numpy.float32'>. Please provide explicit dtype.\u001b[0m\n"
     ]
    }
   ],
   "source": [
    "grid_world = make_grid(height, width, goals, walls=walls, doors=doors)"
   ]
  },
  {
   "cell_type": "code",
   "execution_count": 3,
   "metadata": {},
   "outputs": [],
   "source": [
    "horizon = 100\n",
    "n_episodes = 1000\n",
    "\n",
    "data = collect_episodes(grid_world, horizon=horizon, n_episodes=n_episodes)"
   ]
  },
  {
   "cell_type": "code",
   "execution_count": 4,
   "metadata": {},
   "outputs": [],
   "source": [
    "states = np.array([data[i][0] for i in range(len(data))])"
   ]
  },
  {
   "cell_type": "code",
   "execution_count": 5,
   "metadata": {},
   "outputs": [
    {
     "data": {
      "text/plain": [
       "<matplotlib.collections.PathCollection at 0x62218b5f8>"
      ]
     },
     "execution_count": 5,
     "metadata": {},
     "output_type": "execute_result"
    },
    {
     "data": {
      "image/png": "[encoded data removed]",
      "text/plain": [
       "<Figure size 432x288 with 1 Axes>"
      ]
     },
     "metadata": {
      "needs_background": "light"
     },
     "output_type": "display_data"
    }
   ],
   "source": [
    "plt.scatter(states[:,0], states[:,1])"
   ]
  },
  {
   "cell_type": "code",
   "execution_count": 18,
   "metadata": {},
   "outputs": [],
   "source": [
    "# Subsample to build pvfs\n",
    "graph_states = subsample([data[i][0] for i in range(len(data))], 0.05)"
   ]
  },
  {
   "cell_type": "code",
   "execution_count": 19,
   "metadata": {
    "scrolled": true
   },
   "outputs": [
    {
     "name": "stdout",
     "output_type": "stream",
     "text": [
      "Computing the Laplacian\n",
      "Laplacian computed\n"
     ]
    }
   ],
   "source": [
    "from basis import ProtoValueBasis\n",
    "num_eig = 15\n",
    "var = 0.1\n",
    "nn = 20\n",
    "print('Computing the Laplacian')\n",
    "# Learn state manifold\n",
    "basis = ProtoValueBasis(graph_states, var, nn, 4)\n",
    "print('Laplacian computed')\n",
    "basis.set_num_features(num_eig)"
   ]
  },
  {
   "cell_type": "code",
   "execution_count": 9,
   "metadata": {},
   "outputs": [],
   "source": [
    "class ManifoldPlot(object):\n",
    "    \n",
    "    def __init__(self, pvfs, env, state_indexes, **args):\n",
    "        self.state_indexes = state_indexes\n",
    "        self.low = env.observation_space.low\n",
    "        self.high = env.observation_space.high\n",
    "        self.env = env\n",
    "        self.pvfs = pvfs\n",
    "        self.args = args\n",
    "        self._compute_phis()\n",
    "        \n",
    "    def _compute_phis(self):\n",
    "        X = np.linspace(self.low[self.state_indexes[0]], self.high[self.state_indexes[0]], 10)\n",
    "        Y = np.linspace(self.low[self.state_indexes[1]], self.high[self.state_indexes[1]], 10)\n",
    "        X, Y = np.meshgrid(X, Y)\n",
    "        self.phis = np.array([self.func(x,y) for x,y in zip(np.ravel(X), np.ravel(Y))])\n",
    "        self.X, self.Y = X, Y\n",
    "        \n",
    "    def func(self, x, y):\n",
    "        s = np.zeros(self.env.observation_space.shape[0])\n",
    "        s[self.state_indexes[0]] = x\n",
    "        s[self.state_indexes[1]] = y\n",
    "        return self.pvfs.evaluate(s)[0, :self.pvfs.k]\n",
    "        \n",
    "    def plot_embedding(self, eigens):\n",
    "        fig = plt.figure(figsize=(10,10))\n",
    "        n = len(eigens)\n",
    "        rows = n//3 + 1\n",
    "        for i, j in enumerate(eigens):\n",
    "            ax = fig.add_subplot(rows, 3, i+1, projection='3d')\n",
    "            zs = self.phis[:,j]\n",
    "            Z = zs.reshape(self.X.shape)\n",
    "\n",
    "            ax.plot_surface(self.X, self.Y, Z, cmap=cm.coolwarm)\n",
    "\n",
    "            ax.set_xlabel(self.args['X'])\n",
    "            ax.set_ylabel(self.args['Y'])\n",
    "            ax.set_zlabel(self.args['Z'])\n",
    "            lambd = round(self.pvfs.eigenvals[j], 2)\n",
    "            ax.set_title(r'$\\phi$ ' + str(j+1) + ', lambda %s'%lambd)\n",
    "        plt.tight_layout()\n"
   ]
  },
  {
   "cell_type": "code",
   "execution_count": 20,
   "metadata": {},
   "outputs": [],
   "source": [
    "# Display the embeding of the state space\n",
    "d = {'X':'X', 'Y':'Y', 'Z':'Value of eigenfunction'}\n",
    "manplot = ManifoldPlot(basis, grid_world, [0,1], **d)"
   ]
  },
  {
   "cell_type": "code",
   "execution_count": 22,
   "metadata": {},
   "outputs": [],
   "source": [
    "%matplotlib qt\n",
    "eigens = [4, 5, 6]\n",
    "manplot.plot_embedding(eigens)"
   ]
  },
  {
   "cell_type": "code",
   "execution_count": null,
   "metadata": {},
   "outputs": [],
   "source": []
  },
  {
   "cell_type": "code",
   "execution_count": null,
   "metadata": {},
   "outputs": [],
   "source": []
  }
 ],
 "metadata": {
  "kernelspec": {
   "display_name": "Python 3",
   "language": "python",
   "name": "python3"
  },
  "language_info": {
   "codemirror_mode": {
    "name": "ipython",
    "version": 3
   },
   "file_extension": ".py",
   "mimetype": "text/x-python",
   "name": "python",
   "nbconvert_exporter": "python",
   "pygments_lexer": "ipython3",
   "version": "3.7.1"
  }
 },
 "nbformat": 4,
 "nbformat_minor": 2
}
